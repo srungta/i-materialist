{
 "cells": [
  {
   "cell_type": "markdown",
   "metadata": {},
   "source": [
    "This notebook is to check images by labels."
   ]
  },
  {
   "cell_type": "code",
   "execution_count": null,
   "metadata": {},
   "outputs": [],
   "source": [
    "import pandas as pd\n",
    "import numpy as np\n",
    "import matplotlib.pyplot as plt\n",
    "import matplotlib.image as mpimg\n",
    "import itertools\n",
    "import os\n",
    "import json\n",
    "%matplotlib inline "
   ]
  },
  {
   "cell_type": "code",
   "execution_count": null,
   "metadata": {},
   "outputs": [],
   "source": [
    "#Utility method to read the data pickle\n",
    "def read_dataset(filename):\n",
    "    return pd.read_pickle(filename)"
   ]
  },
  {
   "cell_type": "markdown",
   "metadata": {},
   "source": [
    "We first start by creating the label to image mapping dataframe.\n",
    "The below method takes the data json and create a flat structure of `[Imageid, LabelId]`"
   ]
  },
  {
   "cell_type": "code",
   "execution_count": null,
   "metadata": {},
   "outputs": [],
   "source": [
    "TEST_PICKLE = '../data/pickles/test.pickle'\n",
    "TRAIN_PICKLE = '../data/pickles/train.pickle'\n",
    "VALIDATION_PICKLE = '../data/pickles/validation.pickle'\n",
    "TRAIN_LABEL_PICKLE = '../data/pickles/train_label.pickle'\n",
    "VALIDATION_LABEL_PICKLE = '../data/pickles/validation_label.pickle'\n",
    "PATH_TO_IMAGES = 'G:\\\\Data\\\\data\\\\train\\\\'"
   ]
  },
  {
   "cell_type": "code",
   "execution_count": null,
   "metadata": {},
   "outputs": [],
   "source": [
    "dataset = read_dataset(VALIDATION_LABEL_PICKLE)\n",
    "dataset = pd.DataFrame(dataset, dtype='int32')"
   ]
  },
  {
   "cell_type": "markdown",
   "metadata": {},
   "source": [
    "Now that we have the required structure we start with some basic analysis.\n",
    "1. The number of distinct labels in the dataset.\n",
    "2. The maximum labelId value [This will be used later].\n",
    "3. The number of distinct images in the dataset."
   ]
  },
  {
   "cell_type": "code",
   "execution_count": null,
   "metadata": {},
   "outputs": [],
   "source": [
    "number_of_labels = dataset['labelId'].nunique() # Number of distinct labels\n",
    "maximum_label_id = max(dataset['labelId']) # The maximum labelId value\n",
    "number_of_images = dataset['imageId'].nunique() # Number of distinct images\n",
    "print('Number of distinct labels in the dataset : ', number_of_labels)\n",
    "print('Maximum id if labels in the dataset : ', maximum_label_id)\n",
    "print('Number of distinct images in the dataset : ', number_of_images)"
   ]
  },
  {
   "cell_type": "markdown",
   "metadata": {},
   "source": [
    "One of the simplest analysis of the dataset can be done through counts. Let us start by creating counts of labels and images. This can easily be done using `pandas.groupby` method provided out of the box."
   ]
  },
  {
   "cell_type": "code",
   "execution_count": null,
   "metadata": {},
   "outputs": [],
   "source": [
    "# Count analysis for images\n",
    "count_by_image_id = dataset.groupby('imageId')['imageId'].count().reset_index(name=\"count\")\n",
    "count_by_label_id = dataset.groupby('labelId')['labelId'].count().reset_index(name=\"count\")"
   ]
  },
  {
   "cell_type": "code",
   "execution_count": null,
   "metadata": {},
   "outputs": [],
   "source": [
    "# Plot by label counts\n",
    "print('Labels associated with largest number of images ')\n",
    "count_by_label_id.nsmallest(12, 'count')"
   ]
  },
  {
   "cell_type": "code",
   "execution_count": null,
   "metadata": {},
   "outputs": [],
   "source": [
    "count_by_label_id['percentage'] =(count_by_label_id['count'] / number_of_images) * 100"
   ]
  },
  {
   "cell_type": "code",
   "execution_count": null,
   "metadata": {},
   "outputs": [],
   "source": [
    "count_by_label_id[count_by_label_id['count']>10].nsmallest(12, 'count')"
   ]
  },
  {
   "cell_type": "code",
   "execution_count": null,
   "metadata": {},
   "outputs": [],
   "source": []
  }
 ],
 "metadata": {
  "kernelspec": {
   "display_name": "Python 3",
   "language": "python",
   "name": "python3"
  },
  "language_info": {
   "codemirror_mode": {
    "name": "ipython",
    "version": 3
   },
   "file_extension": ".py",
   "mimetype": "text/x-python",
   "name": "python",
   "nbconvert_exporter": "python",
   "pygments_lexer": "ipython3",
   "version": "3.6.5"
  }
 },
 "nbformat": 4,
 "nbformat_minor": 2
}
